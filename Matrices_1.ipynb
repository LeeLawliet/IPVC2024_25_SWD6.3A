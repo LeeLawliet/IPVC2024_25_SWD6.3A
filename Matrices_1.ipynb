{
 "cells": [
  {
   "cell_type": "code",
   "execution_count": 2,
   "metadata": {},
   "outputs": [
    {
     "ename": "ModuleNotFoundError",
     "evalue": "No module named 'numpy'",
     "output_type": "error",
     "traceback": [
      "\u001b[1;31m---------------------------------------------------------------------------\u001b[0m",
      "\u001b[1;31mModuleNotFoundError\u001b[0m                       Traceback (most recent call last)",
      "Cell \u001b[1;32mIn[2], line 1\u001b[0m\n\u001b[1;32m----> 1\u001b[0m \u001b[39mimport\u001b[39;00m \u001b[39mnumpy\u001b[39;00m \u001b[39mas\u001b[39;00m \u001b[39mnp\u001b[39;00m\n\u001b[0;32m      2\u001b[0m \u001b[39mimport\u001b[39;00m \u001b[39mmatplotlib\u001b[39;00m\u001b[39m.\u001b[39;00m\u001b[39mpyplot\u001b[39;00m \u001b[39mas\u001b[39;00m \u001b[39mplt\u001b[39;00m\n\u001b[0;32m      3\u001b[0m \u001b[39mfrom\u001b[39;00m \u001b[39mPIL\u001b[39;00m \u001b[39mimport\u001b[39;00m Image\n",
      "\u001b[1;31mModuleNotFoundError\u001b[0m: No module named 'numpy'"
     ]
    }
   ],
   "source": [
    "# Task 1 - Creating a 2D matrix and displaying as a grayscale image."
   ]
  },
  {
   "cell_type": "code",
   "execution_count": 2,
   "metadata": {},
   "outputs": [
    {
     "name": "stdout",
     "output_type": "stream",
     "text": [
      "My first list\n",
      "[1, 2, 3, 4, 5]\n",
      "My first Matrix\n",
      "My matrix as an image\n"
     ]
    },
    {
     "data": {
      "text/plain": [
       "<matplotlib.image.AxesImage at 0x26fff2a0e50>"
      ]
     },
     "execution_count": 2,
     "metadata": {},
     "output_type": "execute_result"
    },
    {
     "data": {
      "image/png": "[encoded data removed]",
      "text/plain": [
       "<Figure size 640x480 with 1 Axes>"
      ]
     },
     "metadata": {},
     "output_type": "display_data"
    }
   ],
   "source": [
    "import numpy as np\n",
    "import matplotlib.pyplot as plt\n",
    "from PIL import Image\n",
    "\n",
    "print('My first list')\n",
    "MyList= ([1, 2, 3, 4])\n",
    "\n",
    "MyList = MyList + [5]\n",
    "print(MyList)\n",
    "\n",
    "print(\"My first Matrix\")\n",
    "\n",
    "MyMatrix = np.array([[10,20,30,45],[5,100,70,8],[250,100,200,120]], dtype=\"uint8\")\n",
    "\n",
    "print(\"My matrix as an image\")\n",
    "plt.imshow(MyMatrix, cmap='gray', vmin=0, vmax=255)"
   ]
  },
  {
   "cell_type": "code",
   "execution_count": null,
   "metadata": {},
   "outputs": [],
   "source": [
    "# Task 2 - Create a color RGB matrix and display it."
   ]
  },
  {
   "cell_type": "code",
   "execution_count": 3,
   "metadata": {},
   "outputs": [
    {
     "name": "stdout",
     "output_type": "stream",
     "text": [
      "(10, 10, 3)\n"
     ]
    },
    {
     "data": {
      "text/plain": [
       "<matplotlib.image.AxesImage at 0x26fff3e17e0>"
      ]
     },
     "execution_count": 3,
     "metadata": {},
     "output_type": "execute_result"
    },
    {
     "data": {
      "image/png": "[encoded data removed]",
      "text/plain": [
       "<Figure size 640x480 with 1 Axes>"
      ]
     },
     "metadata": {},
     "output_type": "display_data"
    }
   ],
   "source": [
    "MyRGBMatrix = np.zeros([10,10,3], dtype=\"uint8\")\n",
    "\n",
    "print(MyRGBMatrix.shape)\n",
    "\n",
    "MyRGBMatrix = np.random.randint(0, 255, size=MyRGBMatrix.shape)\n",
    "\n",
    "plt.imshow(MyRGBMatrix)"
   ]
  },
  {
   "cell_type": "code",
   "execution_count": 4,
   "metadata": {},
   "outputs": [
    {
     "name": "stdout",
     "output_type": "stream",
     "text": [
      "[[1 2 3]\n",
      " [4 5 6]\n",
      " [7 8 9]]\n",
      "[[10 11 12]\n",
      " [13 14 15]\n",
      " [16 17 18]]\n",
      "Matrix addition: \n",
      " [[11 13 15]\n",
      " [17 19 21]\n",
      " [23 25 27]]\n"
     ]
    }
   ],
   "source": [
    "#Useful matrix operations\n",
    "\n",
    "m1 = np.array([[1,2,3],[4,5,6],[7,8,9]])\n",
    "print(m1)\n",
    "\n",
    "m2 = np.array([[10,11,12],[13,14,15],[16,17,18]])\n",
    "print(m2)\n",
    "\n",
    "m3 = m1 + m2\n",
    "print('Matrix addition: \\n {}'.format(m3))\n"
   ]
  },
  {
   "cell_type": "code",
   "execution_count": 5,
   "metadata": {},
   "outputs": [
    {
     "name": "stdout",
     "output_type": "stream",
     "text": [
      "[[ 84  90  96]\n",
      " [201 216 231]\n",
      " [318 342 366]]\n",
      "Matrix elementwise multiplication\n",
      "[[ 10  22  36]\n",
      " [ 52  70  90]\n",
      " [112 136 162]]\n",
      "No. of dimensions: \n",
      " 2\n",
      "Dimension sizes: \n",
      " (3, 3)\n",
      "Element count: \n",
      " 9\n",
      "Matrix type: \n",
      " int64\n",
      "All Matrix: \n",
      " [[ 84  90  96]\n",
      " [201 216 231]\n",
      " [318 342 366]]\n",
      "3rd row of a matrix: \n",
      " [318 342 366]\n",
      "2nd column of a matrix: \n",
      " [ 90 216 342]\n",
      "Read from 2nd row onwards: \n",
      " [[201 216 231]\n",
      " [318 342 366]]\n"
     ]
    }
   ],
   "source": [
    "#Matrix Multiplicatin\n",
    "\n",
    "#Scalar multiplication\n",
    "m4 = m1 * m2\n",
    "\n",
    "#Dot multiplication\n",
    "m5 = np.dot(m1,m2)\n",
    "print(m5)\n",
    "\n",
    "m6 = m1 * m2\n",
    "print('Matrix elementwise multiplication')\n",
    "\n",
    "print(m6)\n",
    "\n",
    "#numpy matrix\n",
    "\n",
    "print('No. of dimensions: \\n {}'.format(m5.ndim))\n",
    "print('Dimension sizes: \\n {}'.format(m5.shape))\n",
    "print('Element count: \\n {}'.format(m5.size))\n",
    "print('Matrix type: \\n {}'.format(m5.dtype))\n",
    "\n",
    "#COLON NOTAION\n",
    "\n",
    "print('All Matrix: \\n {}'.format(m5))\n",
    "\n",
    "print('3rd row of a matrix: \\n {}'.format(m5[2,:]))\n",
    "\n",
    "print('2nd column of a matrix: \\n {}'.format(m5[:,1]))\n",
    "\n",
    "print('Read from 2nd row onwards: \\n {}'.format(m5[1:,:]))"
   ]
  }
 ],
 "metadata": {
  "kernelspec": {
   "display_name": "ipcv",
   "language": "python",
   "name": "python3"
  },
  "language_info": {
   "codemirror_mode": {
    "name": "ipython",
    "version": 3
   },
   "file_extension": ".py",
   "mimetype": "text/x-python",
   "name": "python",
   "nbconvert_exporter": "python",
   "pygments_lexer": "ipython3",
   "version": "3.10.0"
  },
  "orig_nbformat": 4
 },
 "nbformat": 4,
 "nbformat_minor": 2
}
